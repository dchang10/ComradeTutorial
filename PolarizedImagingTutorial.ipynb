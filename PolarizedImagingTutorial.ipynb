{
 "cells": [
  {
   "cell_type": "code",
   "execution_count": null,
   "id": "c52949f7",
   "metadata": {},
   "outputs": [],
   "source": [
    "using Comrade\n",
    "using Pyehtim"
   ]
  },
  {
   "cell_type": "code",
   "execution_count": null,
   "id": "2cd3dc41",
   "metadata": {},
   "outputs": [],
   "source": [
    "using Random\n",
    "rng = Random.default_rng()"
   ]
  },
  {
   "cell_type": "code",
   "execution_count": null,
   "id": "a2a03796",
   "metadata": {},
   "outputs": [],
   "source": [
    "obs = Pyehtim.load_uvfits_and_array(joinpath(dirname(pathof(Comrade)), \"..\", \"examples\", \"PolarizedExamples/polarized_gaussian_nogains_withdterms_withfr.uvfits\"),\n",
    "                        joinpath(dirname(pathof(Comrade)), \"..\", \"examples\", \"PolarizedExamples/array.txt\"))"
   ]
  },
  {
   "cell_type": "code",
   "execution_count": null,
   "id": "8dc3d7cc",
   "metadata": {},
   "outputs": [],
   "source": [
    "obs = scan_average(obs)"
   ]
  },
  {
   "cell_type": "code",
   "execution_count": null,
   "id": "2e69719d",
   "metadata": {},
   "outputs": [],
   "source": [
    "dvis = extract_table(obs, Coherencies())"
   ]
  },
  {
   "cell_type": "code",
   "execution_count": null,
   "id": "fa649ad2",
   "metadata": {},
   "outputs": [],
   "source": [
    "# Construct the sky model\n",
    "function sky(θ, metadata)\n",
    "    (;c, f, p, angparams) = θ\n",
    "    (;K, grid, cache) = metadata\n",
    "    # Construct the image model\n",
    "    # produce Stokes images from parameters\n",
    "    imgI = K(f*c)\n",
    "    # Converts from poincare sphere parameterization of polzarization to Stokes Parameters\n",
    "    pimg = PoincareSphere2Map(imgI, p, angparams, grid)\n",
    "    m = ContinuousImage(pimg, cache)\n",
    "    return m\n",
    "end"
   ]
  },
  {
   "cell_type": "code",
   "execution_count": null,
   "id": "f63cb1c6",
   "metadata": {},
   "outputs": [],
   "source": [
    "function instrument(θ, metadata)\n",
    "    (;dRx, dRy, dLx, dLy, lgp, gpp, lgr, gpr) = θ \n",
    "    (;tcache, scancache, phasecache, trackcache, trackcache_ratio) = metadata\n",
    "    \n",
    "    # Now construct the basis transformation cache\n",
    "    jT = jonesT(tcache)\n",
    "\n",
    "    # Gain product parameters\n",
    "    gPa = exp.(lgp/2 .+ 0im)\n",
    "    gPp = exp.(1im.*gpp/2)\n",
    "    Gpa = jonesG(gPa, gPa, scancache)\n",
    "    Gpp = jonesG(gPp, gPp, phasecache)\n",
    "    # Gain ratio\n",
    "    gRa = exp.(lgr/2)\n",
    "    gRp = exp.(1im.*gpr/2)\n",
    "    Gra = jonesG(gRa, inv.(gRa), trackcache)\n",
    "    Grp = jonesG(gRp, conj.(gRp), trackcache_ratio)\n",
    "    ##D-terms\n",
    "    D = jonesD(complex.(dRx, dRy), complex.(dLx, dLy), trackcache)\n",
    "    # sandwich all the jones matrices together\n",
    "    J = Gpa*Gpp*Gra*Grp*D*jT\n",
    "    # form the complete Jones or RIME model. We use tcache here\n",
    "    # to set the reference basis of the model.\n",
    "    return CorruptionModel(J, tcache)\n",
    "\n",
    "end"
   ]
  },
  {
   "cell_type": "code",
   "execution_count": null,
   "id": "f322684b",
   "metadata": {},
   "outputs": [],
   "source": [
    "fovx = μas2rad(50.0)\n",
    "fovy = μas2rad(50.0)\n",
    "nx = 5\n",
    "ny = floor(Int, fovy/fovx*nx)\n",
    "grid = imagepixels(fovx, fovy, nx, ny) # image grid\n",
    "buffer = IntensityMap(zeros(nx, ny), grid) # buffer to store temporary image\n",
    "pulse = BSplinePulse{3}() # pulse we will be using\n",
    "cache = create_cache(NFFTAlg(dvis), buffer, pulse); # cache to define the NFFT transform"
   ]
  },
  {
   "cell_type": "code",
   "execution_count": null,
   "id": "e42eabfa",
   "metadata": {},
   "outputs": [],
   "source": [
    "using VLBIImagePriors # Load some special VLBI priors"
   ]
  },
  {
   "cell_type": "code",
   "execution_count": null,
   "id": "a58ca090",
   "metadata": {
    "scrolled": true
   },
   "outputs": [],
   "source": [
    "K = K = CenterImage(grid)\n",
    "skymeta = (;K, cache, grid);"
   ]
  },
  {
   "cell_type": "code",
   "execution_count": null,
   "id": "bfcf4538",
   "metadata": {},
   "outputs": [],
   "source": [
    "tcache = TransformCache(dvis; add_fr=true, ehtim_fr_convention=false);"
   ]
  },
  {
   "cell_type": "code",
   "execution_count": null,
   "id": "152115d2",
   "metadata": {},
   "outputs": [],
   "source": [
    "scancache = jonescache(dvis, ScanSeg());"
   ]
  },
  {
   "cell_type": "code",
   "execution_count": null,
   "id": "33b9963f",
   "metadata": {},
   "outputs": [],
   "source": [
    "phase_segs = station_tuple(dvis, ScanSeg(); AA=FixedSeg(1.0 + 0.0im))\n",
    "phasecache = jonescache(dvis, phase_segs);"
   ]
  },
  {
   "cell_type": "code",
   "execution_count": null,
   "id": "18b892f9",
   "metadata": {},
   "outputs": [],
   "source": [
    "trackcache = jonescache(dvis, TrackSeg());\n",
    "trackcache_ratio = jonescache(dvis, station_tuple(dvis, TrackSeg(); AA=FixedSeg(1 + 0.0im)));\n",
    "\n",
    "instrumentmeta = (;tcache, scancache, phasecache, trackcache, trackcache_ratio);"
   ]
  },
  {
   "cell_type": "code",
   "execution_count": null,
   "id": "b0c77249",
   "metadata": {},
   "outputs": [],
   "source": [
    "using Distributions\n",
    "using DistributionsAD\n",
    "st = stations(dvis)\n",
    "distamp = station_tuple(st, Normal(0.0, 0.1))"
   ]
  },
  {
   "cell_type": "code",
   "execution_count": null,
   "id": "e7a182bf",
   "metadata": {},
   "outputs": [],
   "source": [
    "using VLBIImagePriors\n",
    "distphase = station_tuple(st, DiagonalVonMises(0.0,inv(π^2)); reference=:AA)"
   ]
  },
  {
   "cell_type": "code",
   "execution_count": null,
   "id": "d6f851dd",
   "metadata": {},
   "outputs": [],
   "source": [
    "distphase_ratio = station_tuple(st, DiagonalVonMises(0, inv(0.1^1)); reference=:AA)"
   ]
  },
  {
   "cell_type": "code",
   "execution_count": null,
   "id": "57df3c1e",
   "metadata": {},
   "outputs": [],
   "source": [
    "distD = station_tuple(dvis, Normal(0.0, 0.1))"
   ]
  },
  {
   "cell_type": "code",
   "execution_count": null,
   "id": "acf44477",
   "metadata": {},
   "outputs": [],
   "source": [
    "prior = (\n",
    "          c = ImageDirichlet(1.0, nx, ny),\n",
    "          f = Uniform(0.7, 1.2),\n",
    "          p = ImageUniform(nx, ny),\n",
    "          angparams = ImageSphericalUniform(nx, ny),\n",
    "          dRx = CalPrior(distD, trackcache),\n",
    "          dRy = CalPrior(distD, trackcache),\n",
    "          dLx = CalPrior(distD, trackcache),\n",
    "          dLy = CalPrior(distD, trackcache),\n",
    "          lgp = CalPrior(distamp, scancache),\n",
    "          gpp = CalPrior(distphase, phasecache),\n",
    "          lgr = CalPrior(distamp, trackcache),\n",
    "          gpr = CalPrior(distphase_ratio, trackcache_ratio),\n",
    "          )"
   ]
  },
  {
   "cell_type": "code",
   "execution_count": null,
   "id": "a1b7edc4",
   "metadata": {},
   "outputs": [],
   "source": [
    "lklhd = RadioLikelihood(sky, instrument, dvis; skymeta, instrumentmeta)\n",
    "post = Posterior(lklhd, prior)"
   ]
  },
  {
   "cell_type": "code",
   "execution_count": null,
   "id": "48bd05ce",
   "metadata": {},
   "outputs": [],
   "source": [
    "tpost = asflat(post)"
   ]
  },
  {
   "cell_type": "code",
   "execution_count": null,
   "id": "6b5221cc",
   "metadata": {},
   "outputs": [],
   "source": [
    "ndim = dimension(tpost)"
   ]
  },
  {
   "cell_type": "code",
   "execution_count": null,
   "id": "20c80146",
   "metadata": {},
   "outputs": [],
   "source": [
    "logdensityof(tpost, randn(ndim))"
   ]
  },
  {
   "cell_type": "code",
   "execution_count": null,
   "id": "d193a933",
   "metadata": {},
   "outputs": [],
   "source": [
    "using ComradeOptimization\n",
    "using OptimizationOptimJL\n",
    "using Zygote\n",
    "f = OptimizationFunction(tpost, Optimization.AutoZygote())\n",
    "ℓ = logdensityof(tpost)\n",
    "prob = Optimization.OptimizationProblem(f, prior_sample(rng, tpost), nothing)\n",
    "sol = solve(prob, LBFGS(), maxiters=15_000, callback=((x,p)->(@info ℓ(x);false)), g_tol=1e-1)"
   ]
  },
  {
   "cell_type": "code",
   "execution_count": null,
   "id": "6aa0cfa1",
   "metadata": {},
   "outputs": [],
   "source": [
    "xopt = transform(tpost, sol)"
   ]
  },
  {
   "cell_type": "code",
   "execution_count": null,
   "id": "576621da",
   "metadata": {},
   "outputs": [],
   "source": [
    "using Plots\n",
    "residual(vlbimodel(post, xopt), dvis)"
   ]
  },
  {
   "cell_type": "code",
   "execution_count": null,
   "id": "f0eee84c",
   "metadata": {},
   "outputs": [],
   "source": [
    "using AxisKeys\n",
    "imgtrue = Comrade.load(joinpath(dirname(pathof(Comrade)), \"..\", \"examples\", \"PolarizedExamples/polarized_gaussian.fits\"), StokesIntensityMap)\n",
    "imgtruesub = imgtrue(Interval(-fovx/2, fovx/2), Interval(-fovy/2, fovy/2))\n",
    "plot(imgtruesub, title=\"True Image\", xlims=(-25.0,25.0), ylims=(-25.0,25.0))"
   ]
  },
  {
   "cell_type": "code",
   "execution_count": null,
   "id": "ff549f97",
   "metadata": {},
   "outputs": [],
   "source": [
    "img = intensitymap!(copy(imgtruesub), vlbimodel(post, xopt))\n",
    "plot(img, title=\"Reconstructed Image\", xlims=(-25.0,25.0), ylims=(-25.0,25.0))"
   ]
  },
  {
   "cell_type": "code",
   "execution_count": null,
   "id": "0ba6096c",
   "metadata": {},
   "outputs": [],
   "source": [
    "using Comrade.ComradeBase: linearpol\n",
    "ftrue = flux(imgtruesub);\n",
    "@info \"Linear polarization true image: $(abs(linearpol(ftrue))/ftrue.I)\"\n",
    "frecon = flux(img);\n",
    "@info \"Linear polarization recon image: $(abs(linearpol(frecon))/frecon.I)\"\n"
   ]
  },
  {
   "cell_type": "code",
   "execution_count": null,
   "id": "2794a203",
   "metadata": {},
   "outputs": [],
   "source": [
    "@info \"Circular polarization true image: $(ftrue.V/ftrue.I)\"\n",
    "@info \"Circular polarization recon image: $(frecon.V/frecon.I)\"\n"
   ]
  },
  {
   "cell_type": "code",
   "execution_count": null,
   "id": "06766e8c",
   "metadata": {},
   "outputs": [],
   "source": [
    "dR = caltable(trackcache, complex.(xopt.dRx, xopt.dRy))\n"
   ]
  },
  {
   "cell_type": "code",
   "execution_count": null,
   "id": "3f239321",
   "metadata": {},
   "outputs": [],
   "source": [
    "dL = caltable(trackcache, complex.(xopt.dLx, xopt.dLy))\n"
   ]
  },
  {
   "cell_type": "code",
   "execution_count": null,
   "id": "d96dd414",
   "metadata": {},
   "outputs": [],
   "source": []
  }
 ],
 "metadata": {
  "kernelspec": {
   "display_name": "Julia 1.9.1",
   "language": "julia",
   "name": "julia-1.9"
  },
  "language_info": {
   "file_extension": ".jl",
   "mimetype": "application/julia",
   "name": "julia",
   "version": "1.9.1"
  }
 },
 "nbformat": 4,
 "nbformat_minor": 5
}

{
 "cells": [
  {
   "cell_type": "code",
   "execution_count": null,
   "id": "ade571b2",
   "metadata": {},
   "outputs": [],
   "source": [
    "using Comrade # Import Comrade\n",
    "using Pyehtim # Load eht-imaging (used for data io)"
   ]
  },
  {
   "cell_type": "code",
   "execution_count": null,
   "id": "e3762f66",
   "metadata": {},
   "outputs": [],
   "source": [
    "using StableRNGs\n",
    "rng = StableRNG(42)"
   ]
  },
  {
   "cell_type": "code",
   "execution_count": null,
   "id": "a5bf8ce6",
   "metadata": {},
   "outputs": [],
   "source": [
    "obs = ehtim.obsdata.load_uvfits(joinpath(dirname(pathof(Comrade)), \"..\", \"examples\", \"SR1_M87_2017_096_lo_hops_netcal_StokesI.uvfits\"))\n",
    "obs = Pyehtim.scan_average(obs.flag_uvdist(uv_min=0.1e9))\n",
    "typeof(obs)"
   ]
  },
  {
   "cell_type": "code",
   "execution_count": null,
   "id": "a41c299a",
   "metadata": {},
   "outputs": [],
   "source": [
    "dlcamp, dcphase = extract_table(obs, LogClosureAmplitudes(;snrcut=3), ClosurePhases(;snrcut=3))"
   ]
  },
  {
   "cell_type": "code",
   "execution_count": null,
   "id": "9a249912",
   "metadata": {},
   "outputs": [],
   "source": [
    "function model(θ)\n",
    "    (;radius, width, α, β, f, σG, τG, ξG, xG, yG) = θ\n",
    "    ring = f*smoothed(stretched(MRing((α,), (β,)), radius, radius), width)\n",
    "    g = (1-f)*shifted(rotated(stretched(Gaussian(), σG, σG*(1+τG)), ξG), xG, yG)\n",
    "    return ring + g\n",
    "end"
   ]
  },
  {
   "cell_type": "code",
   "execution_count": null,
   "id": "4ccff163",
   "metadata": {},
   "outputs": [],
   "source": [
    "lklhd = RadioLikelihood(model, dlcamp, dcphase)"
   ]
  },
  {
   "cell_type": "code",
   "execution_count": null,
   "id": "904c858c",
   "metadata": {},
   "outputs": [],
   "source": [
    "using Distributions, DistributionsAD\n",
    "prior = (\n",
    "        radius = Uniform(μas2rad(10.0), μas2rad(30.0)),\n",
    "        width = Uniform(μas2rad(1.0), μas2rad(10.0)),\n",
    "        α = Uniform(-0.5, 0.5),\n",
    "        β = Uniform(-0.5, 0.5),\n",
    "        f = Uniform(0.0, 1.0),\n",
    "        σG = Uniform(μas2rad(1.0), μas2rad(40.0)),\n",
    "        τG = Uniform(0.0, 0.75),\n",
    "        ξG = Uniform(0.0, 1π),\n",
    "        xG = Uniform(-μas2rad(80.0), μas2rad(80.0)),\n",
    "        yG = Uniform(-μas2rad(80.0), μas2rad(80.0))\n",
    ")"
   ]
  },
  {
   "cell_type": "code",
   "execution_count": null,
   "id": "9a311b3a",
   "metadata": {},
   "outputs": [],
   "source": [
    "post = Posterior(lklhd, prior);"
   ]
  },
  {
   "cell_type": "code",
   "execution_count": null,
   "id": "e4761c18",
   "metadata": {},
   "outputs": [],
   "source": [
    "logdensityof(post, (radius = μas2rad(20.0),\n",
    "                  width = μas2rad(10.0),\n",
    "                  α = 0.3,\n",
    "                  β = 0.3,\n",
    "                  f = 0.6,\n",
    "                  σG = μas2rad(20.0),\n",
    "                  τG = 0.1,\n",
    "                  ξG = 0.5,\n",
    "                  xG = 0.0,\n",
    "                  yG = 0.0))"
   ]
  },
  {
   "cell_type": "code",
   "execution_count": null,
   "id": "ca226e1b",
   "metadata": {},
   "outputs": [],
   "source": [
    "# Construct a transform that moves the parameters from the unit\n",
    "# hypercube to what the parameters we specified.\n",
    "cpost = ascube(post) "
   ]
  },
  {
   "cell_type": "code",
   "execution_count": null,
   "id": "59069443",
   "metadata": {},
   "outputs": [],
   "source": [
    "# Construct a transform that moves the parameters from unconstrained\n",
    "# R^N to the parameters space.\n",
    "fpost = asflat(post)"
   ]
  },
  {
   "cell_type": "code",
   "execution_count": null,
   "id": "8a8247f4",
   "metadata": {},
   "outputs": [],
   "source": [
    "logdensityof(cpost, rand(rng, dimension(cpost))) # notice we use rand here since the argument must be in [0,1]\n",
    "logdensityof(fpost, randn(rng, dimension(fpost))) # notice we use randn since the argument can be all of R^N"
   ]
  },
  {
   "cell_type": "code",
   "execution_count": null,
   "id": "d8a6275e",
   "metadata": {},
   "outputs": [],
   "source": [
    "#, we will use `cpost` since it restricts the domain to live within the compact unit hypercube\n",
    "#, which is easier to explore for non-gradient-based optimizers like `BBO`.\n",
    "using ComradeOptimization\n",
    "using OptimizationBBO\n",
    "\n",
    "ndim = dimension(cpost)\n",
    "f = OptimizationFunction(cpost)\n",
    "prob = Optimization.OptimizationProblem(f, randn(rng, ndim), nothing, lb=fill(0.0, ndim), ub=fill(1.0, ndim))"
   ]
  },
  {
   "cell_type": "code",
   "execution_count": null,
   "id": "55969c2c",
   "metadata": {},
   "outputs": [],
   "source": [
    "sol = solve(prob, BBO_adaptive_de_rand_1_bin_radiuslimited(); maxiters=5_00)"
   ]
  },
  {
   "cell_type": "code",
   "execution_count": null,
   "id": "1a289d44",
   "metadata": {},
   "outputs": [],
   "source": [
    "xopt = transform(cpost, sol)"
   ]
  },
  {
   "cell_type": "code",
   "execution_count": null,
   "id": "efffdb36",
   "metadata": {},
   "outputs": [],
   "source": [
    "using Plots\n",
    "Plots.plot(model(xopt), title=\"MAP image\", xlims=(-60.0,50.0), ylims=(-60.0,50.0))"
   ]
  },
  {
   "cell_type": "code",
   "execution_count": null,
   "id": "d2bd51cb",
   "metadata": {},
   "outputs": [],
   "source": [
    "using ComradeAHMC, ForwardDiff\n",
    "chain, stats = sample(rng, post, AHMC(metric=DiagEuclideanMetric(ndim), autodiff=Val(:ForwardDiff)), 2000; nadapts=1000, init_params=xopt)"
   ]
  },
  {
   "cell_type": "code",
   "execution_count": null,
   "id": "915d9d04",
   "metadata": {},
   "outputs": [],
   "source": [
    "Plots.plot(model(chain[end]), title=\"Random image\")"
   ]
  },
  {
   "cell_type": "code",
   "execution_count": null,
   "id": "34c87b60",
   "metadata": {},
   "outputs": [],
   "source": [
    "meanimg = mean(intensitymap.(model.(sample(chain[1000:end], 100)), μas2rad(120.0), μas2rad(120.0), 128, 128))\n",
    "Plots.plot(sqrt.(max.(meanimg, 0.0)), title=\"Mean Image\") #plot on a sqrt color scale to see the Gaussian"
   ]
  },
  {
   "cell_type": "code",
   "execution_count": null,
   "id": "d2c4d47d",
   "metadata": {},
   "outputs": [],
   "source": [
    "Plots.plot(model(xopt), dlcamp, label=\"MAP\")"
   ]
  },
  {
   "cell_type": "code",
   "execution_count": null,
   "id": "738de491",
   "metadata": {},
   "outputs": [],
   "source": []
  }
 ],
 "metadata": {
  "kernelspec": {
   "display_name": "Julia 1.9.1",
   "language": "julia",
   "name": "julia-1.9"
  },
  "language_info": {
   "file_extension": ".jl",
   "mimetype": "application/julia",
   "name": "julia",
   "version": "1.9.1"
  }
 },
 "nbformat": 4,
 "nbformat_minor": 5
}
